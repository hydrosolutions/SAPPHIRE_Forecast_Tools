{
 "cells": [
  {
   "cell_type": "markdown",
   "metadata": {},
   "source": [
    "## Demonstration of different skill scores for hydrological forecasts\n",
    "\n",
    "This notebook demonstrates the calculation of different skill scores for hydrological forecasts. The skill scores are calculated for the linear regression model. \n",
    "\n",
    "The following skill scores are calculated:\n",
    "1. Mean Absolute Error (MAE)\n",
    "2. Root Mean Squared Error (RMSE) normalized with mean observed value\n",
    "3. Nash-Sutcliffe Efficiency (NSE)"
   ]
  }
 ],
 "metadata": {
  "language_info": {
   "name": "python"
  }
 },
 "nbformat": 4,
 "nbformat_minor": 2
}
