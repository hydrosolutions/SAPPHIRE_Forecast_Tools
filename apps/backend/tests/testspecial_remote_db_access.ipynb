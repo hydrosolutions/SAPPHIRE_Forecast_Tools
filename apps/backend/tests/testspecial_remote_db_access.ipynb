{
 "cells": [
  {
   "cell_type": "code",
   "execution_count": null,
   "metadata": {},
   "outputs": [],
   "source": [
    "from ieasyhydro_sdk.sdk import IEasyHydroSDK, IEasyHydroHFSDK\n",
    "from dotenv import load_dotenv\n",
    "\n",
    "from ieasyhydro_sdk.filters import BasicDataValueFilters\n",
    "import datetime as dt\n",
    "\n",
    "import pandas as pd\n",
    "import sys\n",
    "import os\n",
    "\n",
    "import holoviews as hv\n",
    "\n",
    "hv.extension('bokeh')\n",
    "\n",
    "# Get the absolute path of the directory containing the current script\n",
    "cwd = os.getcwd()\n",
    "print(cwd)\n",
    "! pip freeze | grep ieasyhydro-sdk\n",
    "\n",
    "\n",
    "# Construct the path to the iEasyHydroForecast directory\n",
    "forecast_dir = os.path.join(\n",
    "    cwd, '..', 'iEasyHydroForecast')\n",
    "\n",
    "# Add the forecast directory to the Python path\n",
    "sys.path.append(forecast_dir)\n",
    "\n",
    "# Import the modules from the forecast library\n",
    "import tag_library as tl\n",
    "import forecast_library as fl\n",
    "\n",
    "#env_file_path = \"../config/.env_develop_kghm\"\n",
    "env_file_path = \"../../../../sensitive_data_forecast_tools/config/.env_develop_kghm\"\n",
    "load_dotenv(env_file_path)\n",
    "print(\"DEBUG: IEASYHYDRO_HOST: \", os.getenv(\"IEASYHYDRO_HOST\"))\n",
    "print(\"DEBUG: IEASYHYDROHF_HOST: \", os.getenv(\"IEASYHYDROHF_HOST\"))\n",
    "#print(\"DEBUG: IEASYHYDROHF_USERNAME: \", os.getenv(\"IEASYHYDROHF_USERNAME\"))\n",
    "#print(\"DEBUG: IEASYHYDROHF_PASSWORD: \", os.getenv(\"IEASYHYDROHF_PASSWORD\"))\n",
    "\n",
    "# Get data from hydrosolutions account on iEH HF\n",
    "#iehhf_sdk_hsol = IEasyHydroHFSDK(\n",
    "#    host='https://hf.ieasyhydro.org/api/v1/',\n",
    "#    username=<username>,\n",
    "#    password=<pwd>\n",
    "#)\n",
    "\n",
    "# Load sdk configuration from .env\n",
    "ieh_sdk = IEasyHydroSDK(\n",
    "    host='http://localhost:8881'\n",
    ")\n",
    "iehhf_sdk = IEasyHydroHFSDK()\n",
    "\n",
    "today = dt.datetime.now()\n",
    "\n",
    "predictor_dates = [dt.datetime(2024, 5, 13, 0, 0, 0), dt.datetime(2024, 5, 15, 12, 0, 0)]\n",
    "predictor_dates = [dt.datetime(2024, 10, 18, 0, 0, 0), dt.datetime(2024, 10, 28, 12, 0, 0)]\n",
    "predictor_dates = [today - dt.timedelta(days=3), today]\n",
    "\n",
    "# Define date filter\n",
    "filters = BasicDataValueFilters(\n",
    "    local_date_time__gte=predictor_dates[0],\n",
    "    local_date_time__lt=predictor_dates[1]\n",
    ")\n",
    "\n",
    "\n",
    "\n",
    "sites = [\"15102\", \"15212\", \"15215\", \"15216\", \"15149\", \"15214\", \"15171\",\n",
    "                 \"15194\", \"15189\", \"15292\", \"15261\", \"15954\", \"15960\",\n",
    "                 \"16059\", \"16096\", \"16100\", \"16936\"]\n",
    "#sites = [\"15030\"]  # [\"15194\"]\n",
    "\n",
    "for site in sites:\n",
    "    #site = '15102'\n",
    "\n",
    "    try:\n",
    "        # Get data\n",
    "        qdata = ieh_sdk.get_data_values_for_site(\n",
    "            [site],\n",
    "            'discharge_daily_average',\n",
    "            filters=filters\n",
    "        )\n",
    "        qdata = pd.DataFrame(qdata['data_values'])\n",
    "        #print(\"get_data_values_for_site:\\n\", qdata)\n",
    "        #print(type(qdata))\n",
    "\n",
    "        tdata = ieh_sdk.get_data_values_for_site(\n",
    "            [site],\n",
    "            'discharge_daily',\n",
    "            filters=filters,\n",
    "        )\n",
    "        tdata = pd.DataFrame(tdata['data_values'])\n",
    "        #print(tdata)\n",
    "\n",
    "        # Get the first row from tdata in the wide format\n",
    "        row = pd.DataFrame(tdata.iloc[-1]).transpose()\n",
    "        #print(row)\n",
    "\n",
    "        # add the row to qdata\n",
    "        qdata = pd.concat([qdata, row])\n",
    "        print(qdata.tail())\n",
    "        print(f\"{site} : {round(sum(qdata['data_value']), 3)}\")\n",
    "\n",
    "    except:\n",
    "        print(f\"site {site} not in DB\")\n",
    "        continue"
   ]
  },
  {
   "cell_type": "code",
   "execution_count": null,
   "metadata": {},
   "outputs": [],
   "source": [
    "sites_kg_old_raw = ieh_sdk.get_discharge_sites()\n",
    "#print(sites_kg_old_raw)\n",
    "sites_kg_old = []\n",
    "for site in sites_kg_old_raw:\n",
    "    sites_kg_old.append(site['site_code'])\n",
    "print(sites_kg_old)"
   ]
  },
  {
   "cell_type": "code",
   "execution_count": null,
   "metadata": {},
   "outputs": [],
   "source": [
    "#sits_hsol = iehhf_sdk_hsol.get_discharge_sites()\n",
    "#print(sits_hsol)"
   ]
  },
  {
   "cell_type": "code",
   "execution_count": null,
   "metadata": {},
   "outputs": [],
   "source": [
    "# Test getting data from hsol account on iEH HF\n",
    "#pentadal_norm = iehhf_sdk_hsol.get_norm_for_site(\"02268\", \"discharge\", norm_period=\"p\")\n",
    "#print(f'pentad: {pentadal_norm}')\n",
    "#decadal_norm = iehhf_sdk_hsol.get_norm_for_site(\"02268\", \"discharge\")\n",
    "#print(f'decad: {decadal_norm}')\n",
    "#monthly_norm = iehhf_sdk_hsol.get_norm_for_site(\"02268\", \"discharge\", norm_period=\"m\")\n",
    "#print(f'monthly: {monthly_norm}')"
   ]
  },
  {
   "cell_type": "code",
   "execution_count": null,
   "metadata": {},
   "outputs": [],
   "source": [
    "test = iehhf_sdk.get_discharge_sites()\n",
    "print(test[0])"
   ]
  },
  {
   "cell_type": "code",
   "execution_count": null,
   "metadata": {},
   "outputs": [],
   "source": [
    "# Test get norm data\n",
    "# Get decadal norm (default)\n",
    "decadal_norm = iehhf_sdk.get_norm_for_site(\"16153\", \"discharge\")\n",
    "print(decadal_norm)\n",
    "# Get monthly norm\n",
    "monthly_norm = iehhf_sdk.get_norm_for_site(\"16153\", \"discharge\", norm_period=\"m\")\n",
    "print(monthly_norm)\n",
    "# Get pentadal norm\n",
    "pentadal_norm = iehhf_sdk.get_norm_for_site(\"16153\", \"discharge\", norm_period=\"p\")\n",
    "print(pentadal_norm)"
   ]
  },
  {
   "cell_type": "code",
   "execution_count": null,
   "metadata": {},
   "outputs": [],
   "source": [
    "# Get site_code, site_name and region into a data frame\n",
    "test_df = pd.DataFrame(test)[['site_code', 'official_name', 'basin', 'site_type']]\n",
    "test_df['basin'] = test_df['basin'].apply(lambda x: x['official_name'])\n",
    "test_df"
   ]
  },
  {
   "cell_type": "code",
   "execution_count": null,
   "metadata": {},
   "outputs": [],
   "source": [
    "# Write the data frame to a csv file\n",
    "#test_df.to_csv('discharge_sites.csv', index=False)"
   ]
  },
  {
   "cell_type": "code",
   "execution_count": null,
   "metadata": {},
   "outputs": [],
   "source": []
  },
  {
   "cell_type": "code",
   "execution_count": null,
   "metadata": {},
   "outputs": [],
   "source": [
    "# Use hvplot to plot data_value against local_date_time\n",
    "plot = hv.Curve(data=qdata, kdims=['local_date_time'], vdims=['data_value'])\n",
    "plot\n"
   ]
  },
  {
   "cell_type": "code",
   "execution_count": null,
   "metadata": {},
   "outputs": [],
   "source": [
    "# Test SDK library to get static data from iEH HF\n",
    "print(\"ieasyhydro_host: \", os.getenv(\"IEASYHYDRO_HOST\"))\n",
    "print(\"ieasyhydrohf_host: \", os.getenv(\"IEASYHYDROHF_HOST\"))\n",
    "ieasyhydro_hf_sdk = IEasyHydroHFSDK()\n",
    "\n",
    "discharge_sites_data = ieasyhydro_hf_sdk.get_discharge_sites()\n",
    "test_site = pd.DataFrame(discharge_sites_data).iloc[0]\n",
    "print(test_site)"
   ]
  },
  {
   "cell_type": "code",
   "execution_count": null,
   "metadata": {},
   "outputs": [],
   "source": [
    "test_site_basin_id = test_site['basin']\n",
    "print(test_site_basin_id['official_name'])"
   ]
  },
  {
   "cell_type": "code",
   "execution_count": null,
   "metadata": {},
   "outputs": [],
   "source": [
    "virtual_sites_data = ieasyhydro_hf_sdk.get_virtual_sites()\n",
    "print(pd.DataFrame(virtual_sites_data).iloc[0])"
   ]
  },
  {
   "cell_type": "code",
   "execution_count": null,
   "metadata": {},
   "outputs": [],
   "source": [
    "# Get meteo sites\n",
    "meteo_sites = ieh_sdk.get_meteo_sites()\n",
    "meteo_sites = pd.DataFrame(meteo_sites)\n",
    "print(meteo_sites['site_code'])\n",
    "print(type(meteo_sites['site_code'][0]))"
   ]
  },
  {
   "cell_type": "code",
   "execution_count": null,
   "metadata": {},
   "outputs": [],
   "source": [
    "# Get station meta data\n",
    "station_meta = ieh_sdk.get_data_values_for_site(\n",
    "    [\"15212\"],\n",
    "    'decade_precipitation',\n",
    "    filters=filters\n",
    ")\n",
    "print(station_meta['variable'])\n",
    "station_meta_df = pd.DataFrame([station_meta['variable']])\n",
    "station_meta_df"
   ]
  },
  {
   "cell_type": "code",
   "execution_count": null,
   "metadata": {},
   "outputs": [],
   "source": [
    "# Get weather station data\n",
    "decade_precip = ieh_sdk.get_data_values_for_site(\n",
    "    [\"15212\"],\n",
    "    'decade_precipitation',\n",
    "    filters=filters\n",
    ")\n",
    "decade_precip = pd.DataFrame(decade_precip['data_values'])\n",
    "decade_precip"
   ]
  },
  {
   "cell_type": "code",
   "execution_count": null,
   "metadata": {},
   "outputs": [],
   "source": [
    "monthly_precip = ieh_sdk.get_data_values_for_site(\n",
    "    [\"15212\"],\n",
    "    'monthly_precipitation',\n",
    "    filters=filters\n",
    ")\n",
    "monthly_precip = pd.DataFrame(monthly_precip['data_values'])\n",
    "monthly_precip"
   ]
  },
  {
   "cell_type": "code",
   "execution_count": null,
   "metadata": {},
   "outputs": [],
   "source": [
    "# Get all sites from iEH DB\n",
    "meteo_sites_data = ieh_sdk.get_meteo_sites()\n",
    "meteo_sites_data = pd.DataFrame(meteo_sites_data)\n",
    "# Filter for basin == \"Чу\"\n",
    "meteo_sites_data = meteo_sites_data[meteo_sites_data['basin'] == \"Чу\"]\n",
    "print(meteo_sites_data)\n",
    "\n"
   ]
  }
 ],
 "metadata": {
  "kernelspec": {
   "display_name": "hsol_py310",
   "language": "python",
   "name": "python3"
  },
  "language_info": {
   "codemirror_mode": {
    "name": "ipython",
    "version": 3
   },
   "file_extension": ".py",
   "mimetype": "text/x-python",
   "name": "python",
   "nbconvert_exporter": "python",
   "pygments_lexer": "ipython3",
   "version": "3.10.13"
  }
 },
 "nbformat": 4,
 "nbformat_minor": 2
}
